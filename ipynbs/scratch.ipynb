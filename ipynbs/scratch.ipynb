{
 "cells": [
  {
   "cell_type": "code",
   "execution_count": 2,
   "metadata": {},
   "outputs": [],
   "source": [
    "import json\n",
    "import requests\n",
    "import numpy as np\n",
    "import pandas as pd\n",
    "import FinanceDataReader as fdr"
   ]
  },
  {
   "cell_type": "code",
   "execution_count": 13,
   "metadata": {},
   "outputs": [],
   "source": [
    "date = '20211207'\n",
    "\n",
    "result = requests.post(\"http://data.krx.co.kr/comm/bldAttendant/getJsonData.cmd\"\n",
    "                        , headers = {'User-Agent': 'Mozilla/5.0'}\n",
    "                        , params = dict(bld= 'dbms/MDC/STAT/standard/MDCSTAT03501'\n",
    "                                , searchType=\t1\n",
    "                                , mktId=\t'ALL'\n",
    "                                , trdDd=\tdate\n",
    "                                , isuCd=\t'KR7005930003'\n",
    "                        ))\n",
    "if not result.content:\n",
    "    raise ValueError('Empty Result!')\n"
   ]
  },
  {
   "cell_type": "code",
   "execution_count": 14,
   "metadata": {},
   "outputs": [],
   "source": [
    "\n",
    "# Make DataFrame\n",
    "df = pd.DataFrame(json.loads(result.content)['output'])\n",
    "\n",
    "# Rename Columns, Remove unused columns\n",
    "columns={\n",
    "    'DVD_YLD':'배당수익률'\n",
    "    , 'TDD_CLSPRC':'종가'\n",
    "    , 'ISU_SRT_CD':'종목코드'\n",
    "    , 'ISU_ABBRV':'종목명'\n",
    "}\n",
    "df = df.rename(columns=columns)\n",
    "df =df[['종목명', '종목코드', '종가', 'PER', 'PBR', '배당수익률']]\n",
    "df['기준일'] = date\n",
    "\n",
    "# Preprocess Variables\n",
    "for col in ['종가', 'PER', 'PBR', '배당수익률']:\n",
    "    df[col] = df[col].apply(lambda x: x.replace(',', ''))\n",
    "df = df.replace(to_replace='-', value=np.NaN)\n",
    "df = df.replace(to_replace='', value=np.NaN)\n",
    "df = df.astype({\n",
    "    '종목명':str,\n",
    "    '종목코드':str,\n",
    "    '종가':int,\n",
    "    'PER':float,\n",
    "    'PBR':float,\n",
    "    '배당수익률':float\n",
    "})"
   ]
  }
 ],
 "metadata": {
  "interpreter": {
   "hash": "b3ba2566441a7c06988d0923437866b63cedc61552a5af99d1f4fb67d367b25f"
  },
  "kernelspec": {
   "display_name": "Python 3.8.8 64-bit ('base': conda)",
   "language": "python",
   "name": "python3"
  },
  "language_info": {
   "codemirror_mode": {
    "name": "ipython",
    "version": 3
   },
   "file_extension": ".py",
   "mimetype": "text/x-python",
   "name": "python",
   "nbconvert_exporter": "python",
   "pygments_lexer": "ipython3",
   "version": "3.8.8"
  },
  "orig_nbformat": 4
 },
 "nbformat": 4,
 "nbformat_minor": 2
}
