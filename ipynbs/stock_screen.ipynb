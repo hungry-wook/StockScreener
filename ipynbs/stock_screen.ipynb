{
 "cells": [
  {
   "cell_type": "code",
   "execution_count": 1,
   "metadata": {},
   "outputs": [],
   "source": [
    "import sys\n",
    "sys.path.append('../')\n",
    "import numpy as np\n",
    "from stock_screener.dataset import *\n",
    "from stock_screener.metrics import *"
   ]
  },
  {
   "cell_type": "code",
   "execution_count": 2,
   "metadata": {},
   "outputs": [],
   "source": [
    "financial_summary_data = load_financial_summary_data()"
   ]
  },
  {
   "cell_type": "code",
   "execution_count": 3,
   "metadata": {},
   "outputs": [],
   "source": [
    "stock_price_data = load_stock_price_data()"
   ]
  },
  {
   "cell_type": "markdown",
   "metadata": {},
   "source": [
    "## 최근 3개년 ROE 증가 추세에 있는 종목"
   ]
  },
  {
   "cell_type": "code",
   "execution_count": 4,
   "metadata": {},
   "outputs": [],
   "source": [
    "roe_increasing_stocks = []\n",
    "\n",
    "for stock_code, fin_data in financial_summary_data.items():\n",
    "    try:\n",
    "        if check_metric_increasing(fin_data['annual'], start_year=2017, end_year=2019,\n",
    "                                   metric='영업이익', should_be_positive=True):\n",
    "            roe_increasing_stocks.append(stock_code)\n",
    "    except:\n",
    "        continue"
   ]
  },
  {
   "cell_type": "markdown",
   "metadata": {},
   "source": [
    "### RIM 모델 통해 적정 주가 계산"
   ]
  },
  {
   "cell_type": "code",
   "execution_count": 5,
   "metadata": {},
   "outputs": [],
   "source": [
    "stock_code_list = []\n",
    "proper_price_list = []\n",
    "current_price_list = []\n",
    "\n",
    "for stock_code, fin_data in financial_summary_data.items():\n",
    "    try:\n",
    "        proper_price = rim_price(fin_data['annual'], 2019)\n",
    "        current_price = int(stock_price_data[stock_code].iloc[-1]['Close'])\n",
    "    except:\n",
    "        continue\n",
    "    stock_code_list.append(stock_code)\n",
    "    proper_price_list.append(proper_price)\n",
    "    current_price_list.append(current_price)"
   ]
  },
  {
   "cell_type": "code",
   "execution_count": 6,
   "metadata": {},
   "outputs": [],
   "source": [
    "rim_df = pd.DataFrame({'종목코드':stock_code_list,\n",
    "                       '적정주가':proper_price_list,\n",
    "                       '현재주가':current_price_list})"
   ]
  },
  {
   "cell_type": "markdown",
   "metadata": {},
   "source": [
    "## 적정 주가 대비, 현재 주가가 3분의 1 수준 미만인 종목"
   ]
  },
  {
   "cell_type": "code",
   "execution_count": 7,
   "metadata": {},
   "outputs": [],
   "source": [
    "low_price_df = rim_df.loc[(rim_df['적정주가'] > rim_df['현재주가'] * 1.5) & \n",
    "                          (rim_df['적정주가'] < rim_df['현재주가'] * 2)]"
   ]
  },
  {
   "cell_type": "code",
   "execution_count": 8,
   "metadata": {},
   "outputs": [],
   "source": [
    "candidate_stock_codes = set(low_price_df['종목코드']) & set(roe_increasing_stocks)"
   ]
  },
  {
   "cell_type": "code",
   "execution_count": 9,
   "metadata": {},
   "outputs": [
    {
     "data": {
      "text/html": [
       "<div>\n",
       "<style scoped>\n",
       "    .dataframe tbody tr th:only-of-type {\n",
       "        vertical-align: middle;\n",
       "    }\n",
       "\n",
       "    .dataframe tbody tr th {\n",
       "        vertical-align: top;\n",
       "    }\n",
       "\n",
       "    .dataframe thead th {\n",
       "        text-align: right;\n",
       "    }\n",
       "</style>\n",
       "<table border=\"1\" class=\"dataframe\">\n",
       "  <thead>\n",
       "    <tr style=\"text-align: right;\">\n",
       "      <th></th>\n",
       "      <th>종목코드</th>\n",
       "      <th>적정주가</th>\n",
       "      <th>현재주가</th>\n",
       "    </tr>\n",
       "  </thead>\n",
       "  <tbody>\n",
       "    <tr>\n",
       "      <th>380</th>\n",
       "      <td>038390</td>\n",
       "      <td>27188</td>\n",
       "      <td>14400</td>\n",
       "    </tr>\n",
       "    <tr>\n",
       "      <th>522</th>\n",
       "      <td>001040</td>\n",
       "      <td>166924</td>\n",
       "      <td>83500</td>\n",
       "    </tr>\n",
       "    <tr>\n",
       "      <th>567</th>\n",
       "      <td>016360</td>\n",
       "      <td>48980</td>\n",
       "      <td>32300</td>\n",
       "    </tr>\n",
       "    <tr>\n",
       "      <th>582</th>\n",
       "      <td>183190</td>\n",
       "      <td>86304</td>\n",
       "      <td>55500</td>\n",
       "    </tr>\n",
       "    <tr>\n",
       "      <th>595</th>\n",
       "      <td>145270</td>\n",
       "      <td>1218</td>\n",
       "      <td>761</td>\n",
       "    </tr>\n",
       "    <tr>\n",
       "      <th>626</th>\n",
       "      <td>122450</td>\n",
       "      <td>18005</td>\n",
       "      <td>9660</td>\n",
       "    </tr>\n",
       "    <tr>\n",
       "      <th>725</th>\n",
       "      <td>039020</td>\n",
       "      <td>5021</td>\n",
       "      <td>2560</td>\n",
       "    </tr>\n",
       "    <tr>\n",
       "      <th>741</th>\n",
       "      <td>024880</td>\n",
       "      <td>7192</td>\n",
       "      <td>3970</td>\n",
       "    </tr>\n",
       "    <tr>\n",
       "      <th>763</th>\n",
       "      <td>023760</td>\n",
       "      <td>771</td>\n",
       "      <td>510</td>\n",
       "    </tr>\n",
       "    <tr>\n",
       "      <th>778</th>\n",
       "      <td>044450</td>\n",
       "      <td>13211</td>\n",
       "      <td>8270</td>\n",
       "    </tr>\n",
       "    <tr>\n",
       "      <th>785</th>\n",
       "      <td>005940</td>\n",
       "      <td>18131</td>\n",
       "      <td>9450</td>\n",
       "    </tr>\n",
       "    <tr>\n",
       "      <th>857</th>\n",
       "      <td>003070</td>\n",
       "      <td>34497</td>\n",
       "      <td>19000</td>\n",
       "    </tr>\n",
       "    <tr>\n",
       "      <th>1089</th>\n",
       "      <td>023460</td>\n",
       "      <td>2940</td>\n",
       "      <td>1520</td>\n",
       "    </tr>\n",
       "    <tr>\n",
       "      <th>1207</th>\n",
       "      <td>204270</td>\n",
       "      <td>22867</td>\n",
       "      <td>12100</td>\n",
       "    </tr>\n",
       "    <tr>\n",
       "      <th>1282</th>\n",
       "      <td>268280</td>\n",
       "      <td>169634</td>\n",
       "      <td>88400</td>\n",
       "    </tr>\n",
       "    <tr>\n",
       "      <th>1317</th>\n",
       "      <td>047050</td>\n",
       "      <td>26555</td>\n",
       "      <td>14100</td>\n",
       "    </tr>\n",
       "    <tr>\n",
       "      <th>1617</th>\n",
       "      <td>267980</td>\n",
       "      <td>104707</td>\n",
       "      <td>68400</td>\n",
       "    </tr>\n",
       "    <tr>\n",
       "      <th>1739</th>\n",
       "      <td>001460</td>\n",
       "      <td>374656</td>\n",
       "      <td>243000</td>\n",
       "    </tr>\n",
       "    <tr>\n",
       "      <th>1753</th>\n",
       "      <td>084690</td>\n",
       "      <td>17933</td>\n",
       "      <td>11100</td>\n",
       "    </tr>\n",
       "    <tr>\n",
       "      <th>1784</th>\n",
       "      <td>010050</td>\n",
       "      <td>879</td>\n",
       "      <td>543</td>\n",
       "    </tr>\n",
       "    <tr>\n",
       "      <th>1888</th>\n",
       "      <td>036830</td>\n",
       "      <td>80720</td>\n",
       "      <td>47400</td>\n",
       "    </tr>\n",
       "    <tr>\n",
       "      <th>1898</th>\n",
       "      <td>083930</td>\n",
       "      <td>15579</td>\n",
       "      <td>7840</td>\n",
       "    </tr>\n",
       "  </tbody>\n",
       "</table>\n",
       "</div>"
      ],
      "text/plain": [
       "        종목코드    적정주가    현재주가\n",
       "380   038390   27188   14400\n",
       "522   001040  166924   83500\n",
       "567   016360   48980   32300\n",
       "582   183190   86304   55500\n",
       "595   145270    1218     761\n",
       "626   122450   18005    9660\n",
       "725   039020    5021    2560\n",
       "741   024880    7192    3970\n",
       "763   023760     771     510\n",
       "778   044450   13211    8270\n",
       "785   005940   18131    9450\n",
       "857   003070   34497   19000\n",
       "1089  023460    2940    1520\n",
       "1207  204270   22867   12100\n",
       "1282  268280  169634   88400\n",
       "1317  047050   26555   14100\n",
       "1617  267980  104707   68400\n",
       "1739  001460  374656  243000\n",
       "1753  084690   17933   11100\n",
       "1784  010050     879     543\n",
       "1888  036830   80720   47400\n",
       "1898  083930   15579    7840"
      ]
     },
     "execution_count": 9,
     "metadata": {},
     "output_type": "execute_result"
    }
   ],
   "source": [
    "rim_df.loc[rim_df['종목코드'].apply(lambda x: x in candidate_stock_codes)]"
   ]
  },
  {
   "cell_type": "code",
   "execution_count": null,
   "metadata": {},
   "outputs": [],
   "source": []
  }
 ],
 "metadata": {
  "kernelspec": {
   "display_name": "Python 3",
   "language": "python",
   "name": "python3"
  },
  "language_info": {
   "codemirror_mode": {
    "name": "ipython",
    "version": 3
   },
   "file_extension": ".py",
   "mimetype": "text/x-python",
   "name": "python",
   "nbconvert_exporter": "python",
   "pygments_lexer": "ipython3",
   "version": "3.7.3"
  }
 },
 "nbformat": 4,
 "nbformat_minor": 4
}
