{
 "cells": [
  {
   "cell_type": "code",
   "execution_count": 1,
   "metadata": {},
   "outputs": [],
   "source": [
    "import sys\n",
    "sys.path.append('../')\n",
    "import numpy as np\n",
    "from algo_trading.dataset import *\n",
    "from algo_trading.analytics.metrics import *"
   ]
  },
  {
   "cell_type": "code",
   "execution_count": 2,
   "metadata": {},
   "outputs": [],
   "source": [
    "financial_summary_data = load_financial_summary_data()"
   ]
  },
  {
   "cell_type": "code",
   "execution_count": 3,
   "metadata": {},
   "outputs": [],
   "source": [
    "stock_price_data = load_stock_price_data()"
   ]
  },
  {
   "cell_type": "markdown",
   "metadata": {},
   "source": [
    "## 최근 3개년 ROE 증가 추세에 있는 종목"
   ]
  },
  {
   "cell_type": "code",
   "execution_count": 4,
   "metadata": {},
   "outputs": [],
   "source": [
    "roe_increasing_stocks = []\n",
    "\n",
    "for stock_code, fin_data in financial_summary_data.items():\n",
    "    try:\n",
    "        if check_metric_increasing(fin_data['annual'], start_year=2017, end_year=2019,\n",
    "                                   metric='ROE', should_be_positive=True):\n",
    "            roe_increasing_stocks.append(stock_code)\n",
    "    except:\n",
    "        continue"
   ]
  },
  {
   "cell_type": "markdown",
   "metadata": {},
   "source": [
    "### RIM 모델 통해 적정 주가 계산"
   ]
  },
  {
   "cell_type": "code",
   "execution_count": 5,
   "metadata": {},
   "outputs": [],
   "source": [
    "stock_code_list = []\n",
    "proper_price_list = []\n",
    "current_price_list = []\n",
    "\n",
    "for stock_code, fin_data in financial_summary_data.items():\n",
    "    try:\n",
    "        proper_price = rim_price(fin_data['annual'], 2019)\n",
    "        current_price = int(stock_price_data[stock_code].iloc[-1]['Close'])\n",
    "    except:\n",
    "        continue\n",
    "    stock_code_list.append(stock_code)\n",
    "    proper_price_list.append(proper_price)\n",
    "    current_price_list.append(current_price)"
   ]
  },
  {
   "cell_type": "code",
   "execution_count": 6,
   "metadata": {},
   "outputs": [],
   "source": [
    "rim_df = pd.DataFrame({'종목코드':stock_code_list,\n",
    "                       '적정주가':proper_price_list,\n",
    "                       '현재주가':current_price_list})"
   ]
  },
  {
   "cell_type": "markdown",
   "metadata": {},
   "source": [
    "## 적정 주가 대비, 현재 주가가 3분의 1 수준 미만인 종목"
   ]
  },
  {
   "cell_type": "code",
   "execution_count": 7,
   "metadata": {},
   "outputs": [],
   "source": [
    "low_price_df = rim_df.loc[rim_df['적정주가'] > rim_df['현재주가'] * 3]"
   ]
  },
  {
   "cell_type": "code",
   "execution_count": 8,
   "metadata": {},
   "outputs": [],
   "source": [
    "candidate_stock_codes = set(low_price_df['종목코드']) & set(roe_increasing_stocks)"
   ]
  },
  {
   "cell_type": "code",
   "execution_count": 9,
   "metadata": {},
   "outputs": [
    {
     "data": {
      "text/html": [
       "<div>\n",
       "<style scoped>\n",
       "    .dataframe tbody tr th:only-of-type {\n",
       "        vertical-align: middle;\n",
       "    }\n",
       "\n",
       "    .dataframe tbody tr th {\n",
       "        vertical-align: top;\n",
       "    }\n",
       "\n",
       "    .dataframe thead th {\n",
       "        text-align: right;\n",
       "    }\n",
       "</style>\n",
       "<table border=\"1\" class=\"dataframe\">\n",
       "  <thead>\n",
       "    <tr style=\"text-align: right;\">\n",
       "      <th></th>\n",
       "      <th>종목코드</th>\n",
       "      <th>적정주가</th>\n",
       "      <th>현재주가</th>\n",
       "    </tr>\n",
       "  </thead>\n",
       "  <tbody>\n",
       "    <tr>\n",
       "      <th>87</th>\n",
       "      <td>001500</td>\n",
       "      <td>30262</td>\n",
       "      <td>9150</td>\n",
       "    </tr>\n",
       "    <tr>\n",
       "      <th>229</th>\n",
       "      <td>005670</td>\n",
       "      <td>28207</td>\n",
       "      <td>5280</td>\n",
       "    </tr>\n",
       "    <tr>\n",
       "      <th>274</th>\n",
       "      <td>007340</td>\n",
       "      <td>80051</td>\n",
       "      <td>23650</td>\n",
       "    </tr>\n",
       "    <tr>\n",
       "      <th>843</th>\n",
       "      <td>003070</td>\n",
       "      <td>33549</td>\n",
       "      <td>10200</td>\n",
       "    </tr>\n",
       "    <tr>\n",
       "      <th>1057</th>\n",
       "      <td>002870</td>\n",
       "      <td>5574</td>\n",
       "      <td>1755</td>\n",
       "    </tr>\n",
       "    <tr>\n",
       "      <th>1085</th>\n",
       "      <td>019180</td>\n",
       "      <td>9834</td>\n",
       "      <td>2635</td>\n",
       "    </tr>\n",
       "    <tr>\n",
       "      <th>1156</th>\n",
       "      <td>101330</td>\n",
       "      <td>19489</td>\n",
       "      <td>3435</td>\n",
       "    </tr>\n",
       "    <tr>\n",
       "      <th>1501</th>\n",
       "      <td>138930</td>\n",
       "      <td>17885</td>\n",
       "      <td>5080</td>\n",
       "    </tr>\n",
       "    <tr>\n",
       "      <th>1591</th>\n",
       "      <td>003530</td>\n",
       "      <td>5668</td>\n",
       "      <td>1750</td>\n",
       "    </tr>\n",
       "    <tr>\n",
       "      <th>1762</th>\n",
       "      <td>175330</td>\n",
       "      <td>19486</td>\n",
       "      <td>4770</td>\n",
       "    </tr>\n",
       "  </tbody>\n",
       "</table>\n",
       "</div>"
      ],
      "text/plain": [
       "        종목코드   적정주가   현재주가\n",
       "87    001500  30262   9150\n",
       "229   005670  28207   5280\n",
       "274   007340  80051  23650\n",
       "843   003070  33549  10200\n",
       "1057  002870   5574   1755\n",
       "1085  019180   9834   2635\n",
       "1156  101330  19489   3435\n",
       "1501  138930  17885   5080\n",
       "1591  003530   5668   1750\n",
       "1762  175330  19486   4770"
      ]
     },
     "execution_count": 9,
     "metadata": {},
     "output_type": "execute_result"
    }
   ],
   "source": [
    "rim_df.loc[rim_df['종목코드'].apply(lambda x: x in candidate_stock_codes)]"
   ]
  },
  {
   "cell_type": "code",
   "execution_count": null,
   "metadata": {},
   "outputs": [],
   "source": []
  }
 ],
 "metadata": {
  "kernelspec": {
   "display_name": "Python 3",
   "language": "python",
   "name": "python3"
  },
  "language_info": {
   "codemirror_mode": {
    "name": "ipython",
    "version": 3
   },
   "file_extension": ".py",
   "mimetype": "text/x-python",
   "name": "python",
   "nbconvert_exporter": "python",
   "pygments_lexer": "ipython3",
   "version": "3.7.3"
  }
 },
 "nbformat": 4,
 "nbformat_minor": 4
}
