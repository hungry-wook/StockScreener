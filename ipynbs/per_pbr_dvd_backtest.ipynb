{
 "cells": [
  {
   "cell_type": "markdown",
   "metadata": {},
   "source": [
    "## PER / PBR / 배당수익률 수준에 따른 수익률"
   ]
  },
  {
   "cell_type": "code",
   "execution_count": 1,
   "metadata": {},
   "outputs": [],
   "source": [
    "import sys\n",
    "import pandas as pd\n",
    "import seaborn as sns\n",
    "from tqdm import tqdm\n",
    "%matplotlib inline\n",
    "\n",
    "sys.path.append('../')\n",
    "from stock_screener.data_reader import *"
   ]
  },
  {
   "cell_type": "code",
   "execution_count": 2,
   "metadata": {},
   "outputs": [],
   "source": [
    "# 최근 10년\n",
    "begin_year = 2011\n",
    "end_year = 2020"
   ]
  },
  {
   "cell_type": "markdown",
   "metadata": {},
   "source": [
    "### 최근 10년에 대해 테스트\n",
    "### 6월 마지막 거래일에 매수, 그 다음해 동월 마지막 거래일에 매도하는 식으로 시뮬레이션"
   ]
  },
  {
   "cell_type": "code",
   "execution_count": 3,
   "metadata": {},
   "outputs": [
    {
     "name": "stderr",
     "output_type": "stream",
     "text": [
      "100%|██████████| 10/10 [00:32<00:00,  3.28s/it]\n"
     ]
    }
   ],
   "source": [
    "# 6월 마지막 거래일 기준\n",
    "\n",
    "dfs = []\n",
    "for y in tqdm(range(begin_year, end_year + 1)):\n",
    "    try:\n",
    "        date = str(y) + '0630'\n",
    "        df = get_per_pbr_dividend(date)\n",
    "    except:\n",
    "        try:\n",
    "            date = str(y) + '0629'\n",
    "            df = get_per_pbr_dividend(date)\n",
    "        except:\n",
    "            date = str(y) + '0628'\n",
    "            df = get_per_pbr_dividend(date)\n",
    "    dfs.append(df)"
   ]
  },
  {
   "cell_type": "markdown",
   "metadata": {},
   "source": [
    "### PER / PBR / 배당수익률 각 지표를 기준으로, 종목을 10분위로 분할하여 테스트\n",
    "#### i.e. 1분위(저PER)로만 포트폴리오 구성하는 전략, ..., 10분위(고PER)로만 포트폴리오 구성하는 전략"
   ]
  },
  {
   "cell_type": "code",
   "execution_count": 4,
   "metadata": {},
   "outputs": [],
   "source": [
    "def get_rate_of_return_by_quantile(factor):\n",
    "\n",
    "    num_split = 10\n",
    "    ror_by_factor_level = dict()\n",
    "\n",
    "    for year in range(begin_year, end_year):\n",
    "\n",
    "        idx = year - begin_year\n",
    "        df = dfs[idx].dropna() # PER, PBR, 배당수익률 기록 없는 기업 제외\n",
    "        df = df.loc[df['PER'].apply(lambda x: x > 0)] # 영업이익 적자 제외\n",
    "        \n",
    "        if factor == '배당수익률':\n",
    "            df = df.sort_values(factor, ascending=False)\n",
    "        else:\n",
    "            df = df.sort_values(factor)\n",
    "\n",
    "        num_corp = len(df)\n",
    "        for x in range(0, num_split):\n",
    "\n",
    "            if x not in ror_by_factor_level:\n",
    "                ror_by_factor_level[x] = []\n",
    "\n",
    "            beg = x * (num_corp // num_split)\n",
    "            end = (x+1) * (num_corp // num_split)\n",
    "            _df = pd.merge(df[beg:end], dfs[idx+1], \n",
    "                          on=['종목명','종목코드'], \n",
    "                           how='left').fillna(0) # 거래정지, 상폐는 수익률 -100퍼로 간주한다\n",
    "            rate_of_return = ((_df['종가_y'] - _df['종가_x']) / _df['종가_x']).mean()\n",
    "            ror_by_factor_level[x].append(rate_of_return)\n",
    "\n",
    "    quantile_idxs = []\n",
    "    quantile_rors = []\n",
    "\n",
    "    for k,v in ror_by_factor_level.items():\n",
    "        v = np.array(v) + 1\n",
    "        ror_mean = np.power(np.prod(v), 1/len(v)) - 1\n",
    "        quantile_idxs.append(k)\n",
    "        quantile_rors.append(ror_mean)\n",
    "        \n",
    "    return quantile_idxs, quantile_rors"
   ]
  },
  {
   "cell_type": "markdown",
   "metadata": {},
   "source": [
    "#### PER 실험 결과"
   ]
  },
  {
   "cell_type": "code",
   "execution_count": 5,
   "metadata": {},
   "outputs": [],
   "source": [
    "quantile_idxs, quantile_rors = get_rate_of_return_by_quantile('PER')"
   ]
  },
  {
   "cell_type": "code",
   "execution_count": 6,
   "metadata": {},
   "outputs": [
    {
     "data": {
      "text/plain": [
       "<matplotlib.axes._subplots.AxesSubplot at 0x7fc7a63ee6d8>"
      ]
     },
     "execution_count": 6,
     "metadata": {},
     "output_type": "execute_result"
    },
    {
     "data": {
      "image/png": "[encoded data removed]",
      "text/plain": [
       "<Figure size 432x288 with 1 Axes>"
      ]
     },
     "metadata": {
      "needs_background": "light"
     },
     "output_type": "display_data"
    }
   ],
   "source": [
    "sns.barplot(quantile_idxs, quantile_rors, )"
   ]
  },
  {
   "cell_type": "markdown",
   "metadata": {},
   "source": [
    "### PBR 실험 결과"
   ]
  },
  {
   "cell_type": "code",
   "execution_count": 7,
   "metadata": {},
   "outputs": [],
   "source": [
    "quantile_idxs, quantile_rors = get_rate_of_return_by_quantile('PBR')"
   ]
  },
  {
   "cell_type": "code",
   "execution_count": 8,
   "metadata": {},
   "outputs": [
    {
     "data": {
      "text/plain": [
       "<matplotlib.axes._subplots.AxesSubplot at 0x7fc7a5da9438>"
      ]
     },
     "execution_count": 8,
     "metadata": {},
     "output_type": "execute_result"
    },
    {
     "data": {
      "image/png": "[encoded data removed]",
      "text/plain": [
       "<Figure size 432x288 with 1 Axes>"
      ]
     },
     "metadata": {
      "needs_background": "light"
     },
     "output_type": "display_data"
    }
   ],
   "source": [
    "sns.barplot(quantile_idxs, quantile_rors)"
   ]
  },
  {
   "cell_type": "markdown",
   "metadata": {},
   "source": [
    "#### 배당수익률 실험 결과"
   ]
  },
  {
   "cell_type": "code",
   "execution_count": 10,
   "metadata": {},
   "outputs": [],
   "source": [
    "quantile_idxs, quantile_rors = get_rate_of_return_by_quantile('배당수익률')"
   ]
  },
  {
   "cell_type": "code",
   "execution_count": 14,
   "metadata": {},
   "outputs": [
    {
     "data": {
      "text/plain": [
       "<matplotlib.axes._subplots.AxesSubplot at 0x7fc7a5d2fda0>"
      ]
     },
     "execution_count": 14,
     "metadata": {},
     "output_type": "execute_result"
    },
    {
     "data": {
      "image/png": "[encoded data removed]",
      "text/plain": [
       "<Figure size 432x288 with 1 Axes>"
      ]
     },
     "metadata": {
      "needs_background": "light"
     },
     "output_type": "display_data"
    }
   ],
   "source": [
    "sns.barplot(quantile_idxs, quantile_rors)"
   ]
  },
  {
   "cell_type": "markdown",
   "metadata": {},
   "source": [
    "### PBR이 가장 noise가 적은 지표이면서, 1분위수 그룹의 수익률도 높음(9%)"
   ]
  },
  {
   "cell_type": "code",
   "execution_count": null,
   "metadata": {},
   "outputs": [],
   "source": []
  }
 ],
 "metadata": {
  "kernelspec": {
   "display_name": "Python 3",
   "language": "python",
   "name": "python3"
  },
  "language_info": {
   "codemirror_mode": {
    "name": "ipython",
    "version": 3
   },
   "file_extension": ".py",
   "mimetype": "text/x-python",
   "name": "python",
   "nbconvert_exporter": "python",
   "pygments_lexer": "ipython3",
   "version": "3.7.3"
  }
 },
 "nbformat": 4,
 "nbformat_minor": 4
}
