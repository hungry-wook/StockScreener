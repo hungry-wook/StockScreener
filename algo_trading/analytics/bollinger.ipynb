{
 "cells": [
  {
   "cell_type": "markdown",
   "metadata": {},
   "source": [
    "## 볼린저 밴드 테스트"
   ]
  },
  {
   "cell_type": "code",
   "execution_count": 1,
   "metadata": {},
   "outputs": [],
   "source": [
    "import numpy as np\n",
    "import pandas as pd\n",
    "import FinanceDataReader as fdr\n",
    "from tqdm import tqdm\n",
    "from marcap import marcap_data"
   ]
  },
  {
   "cell_type": "markdown",
   "metadata": {},
   "source": [
    "### 생존자 편항 제거를 위해, 폐지된 종목까지 포함된 데이터 가져옴"
   ]
  },
  {
   "cell_type": "code",
   "execution_count": 2,
   "metadata": {},
   "outputs": [
    {
     "name": "stdout",
     "output_type": "stream",
     "text": [
      "CPU times: user 18 s, sys: 2.15 s, total: 20.2 s\n",
      "Wall time: 20.5 s\n"
     ]
    }
   ],
   "source": [
    "%time df = marcap_data('2010-01-01', '2018-12-31')"
   ]
  },
  {
   "cell_type": "markdown",
   "metadata": {},
   "source": [
    "#### 종목코드"
   ]
  },
  {
   "cell_type": "code",
   "execution_count": 3,
   "metadata": {},
   "outputs": [],
   "source": [
    "codes = df['Code'].unique()"
   ]
  },
  {
   "cell_type": "code",
   "execution_count": 4,
   "metadata": {},
   "outputs": [
    {
     "data": {
      "text/plain": [
       "2934"
      ]
     },
     "execution_count": 4,
     "metadata": {},
     "output_type": "execute_result"
    }
   ],
   "source": [
    "len(codes)"
   ]
  },
  {
   "cell_type": "code",
   "execution_count": 5,
   "metadata": {},
   "outputs": [],
   "source": [
    "del df"
   ]
  },
  {
   "cell_type": "markdown",
   "metadata": {},
   "source": [
    "### 수정주가 데이터"
   ]
  },
  {
   "cell_type": "code",
   "execution_count": 6,
   "metadata": {},
   "outputs": [
    {
     "name": "stderr",
     "output_type": "stream",
     "text": [
      " 75%|███████▌  | 2207/2934 [07:14<03:30,  3.45it/s]"
     ]
    },
    {
     "name": "stdout",
     "output_type": "stream",
     "text": [
      "00781K Symbol('00781K'), Exchange('None'), kind('None') not found\n"
     ]
    },
    {
     "name": "stderr",
     "output_type": "stream",
     "text": [
      " 76%|███████▋  | 2238/2934 [07:19<03:56,  2.94it/s]"
     ]
    },
    {
     "name": "stdout",
     "output_type": "stream",
     "text": [
      "18064K Symbol('18064K'), Exchange('None'), kind('None') not found\n"
     ]
    },
    {
     "name": "stderr",
     "output_type": "stream",
     "text": [
      " 84%|████████▍ | 2472/2934 [07:46<02:02,  3.76it/s]"
     ]
    },
    {
     "name": "stdout",
     "output_type": "stream",
     "text": [
      "03473K Symbol('03473K'), Exchange('None'), kind('None') not found\n"
     ]
    },
    {
     "name": "stderr",
     "output_type": "stream",
     "text": [
      " 95%|█████████▍| 2784/2934 [08:39<00:30,  4.88it/s]"
     ]
    },
    {
     "name": "stdout",
     "output_type": "stream",
     "text": [
      "00499K Symbol('00499K'), Exchange('None'), kind('None') not found\n"
     ]
    },
    {
     "name": "stderr",
     "output_type": "stream",
     "text": [
      "100%|█████████▉| 2922/2934 [09:00<00:02,  5.51it/s]"
     ]
    },
    {
     "name": "stdout",
     "output_type": "stream",
     "text": [
      "00806K Symbol('00806K'), Exchange('None'), kind('None') not found\n"
     ]
    },
    {
     "name": "stderr",
     "output_type": "stream",
     "text": [
      "100%|██████████| 2934/2934 [09:01<00:00, 11.00it/s]\n"
     ]
    }
   ],
   "source": [
    "data_by_code = dict()\n",
    "for code in tqdm(codes):\n",
    "    try:\n",
    "        df = fdr.DataReader(code, '2010-01-01', '2018-12-31')\n",
    "    except Exception as e:\n",
    "        print(code, e)\n",
    "    data_by_code[code] = df"
   ]
  },
  {
   "cell_type": "markdown",
   "metadata": {},
   "source": [
    "### 볼린저 밴드 계산하는 함수"
   ]
  },
  {
   "cell_type": "code",
   "execution_count": 14,
   "metadata": {},
   "outputs": [],
   "source": [
    "def get_bollinger_band(data, window=20):\n",
    "    _data = data[[col for col in data.columns if not col.startswith('bb_')]].copy()\n",
    "    ma = _data['Close'].rolling(window).agg('mean')\n",
    "    mstd =_data['Close'].rolling(window).agg('std')\n",
    "    _data.loc[:,'bb_upper'] = ma + 2*mstd\n",
    "    _data.loc[:,'bb_lower'] = ma - 2*mstd\n",
    "    _data.loc[:,'bb_width'] = 4*mstd / ma\n",
    "    return _data"
   ]
  },
  {
   "cell_type": "code",
   "execution_count": 15,
   "metadata": {},
   "outputs": [],
   "source": [
    "for code, data in data_by_code.items():\n",
    "    if len(data) == 0:\n",
    "        print(code)"
   ]
  },
  {
   "cell_type": "code",
   "execution_count": 16,
   "metadata": {},
   "outputs": [
    {
     "name": "stdout",
     "output_type": "stream",
     "text": [
      "CPU times: user 25.8 s, sys: 683 ms, total: 26.5 s\n",
      "Wall time: 26.9 s\n"
     ]
    }
   ],
   "source": [
    "%time data_by_code = {code: get_bollinger_band(data) for code, data in data_by_code.items()}"
   ]
  },
  {
   "cell_type": "markdown",
   "metadata": {},
   "source": [
    "### 특정일로부터 n일 뒤의 수익률 계산"
   ]
  },
  {
   "cell_type": "code",
   "execution_count": 17,
   "metadata": {},
   "outputs": [],
   "source": [
    "def get_returns(data, n_days=[1,5,7,20,60,120]):\n",
    "    _data = data[[col for col in data.columns if not col.startswith('return_')]].copy()\n",
    "    for n_day in n_days:\n",
    "        future_close = _data['Close'].shift(-n_day)\n",
    "        ret = (future_close - _data['Close']) / _data['Close']\n",
    "        _data.loc[:,'return_{}'.format(n_day)] = ret\n",
    "    return _data"
   ]
  },
  {
   "cell_type": "code",
   "execution_count": 18,
   "metadata": {},
   "outputs": [
    {
     "name": "stdout",
     "output_type": "stream",
     "text": [
      "CPU times: user 44.7 s, sys: 911 ms, total: 45.7 s\n",
      "Wall time: 46.5 s\n"
     ]
    }
   ],
   "source": [
    "%time data_by_code = {code: get_returns(data) for code, data in data_by_code.items()}"
   ]
  },
  {
   "cell_type": "markdown",
   "metadata": {},
   "source": [
    "### 모든 주식에 대한 데이터 통합"
   ]
  },
  {
   "cell_type": "code",
   "execution_count": 19,
   "metadata": {},
   "outputs": [],
   "source": [
    "data = pd.concat(data_by_code.values(), axis=0, sort=False).dropna()"
   ]
  },
  {
   "cell_type": "markdown",
   "metadata": {},
   "source": [
    "### 볼린저 밴드 상단 돌파시 기하수익률 계산\n",
    "- 볼린저 밴드폭을 변경해가며 실험\n",
    "- 거래세 고려"
   ]
  },
  {
   "cell_type": "code",
   "execution_count": 43,
   "metadata": {},
   "outputs": [],
   "source": [
    "from scipy.stats import hmean\n",
    "\n",
    "def get_performance(data, bb_width=None):\n",
    "    _data = data.copy()\n",
    "    performance = {}\n",
    "    return_cols = [col for col in _data.columns if col.startswith('return_')]\n",
    "    \n",
    "    cond = _data['Close'] > _data['bb_upper']\n",
    "    if bb_width:\n",
    "        cond &= _data['bb_width'] <= bb_width\n",
    "    \n",
    "    performance['prob'] = cond.mean()\n",
    "    _data = _data[cond][return_cols].copy()\n",
    "    for col in _data:\n",
    "        ret = hmean(_data[col] + 1) - 1\n",
    "        ret -= 0.0033 # 거래세\n",
    "        performance[col] = ret\n",
    "    return performance"
   ]
  },
  {
   "cell_type": "markdown",
   "metadata": {},
   "source": [
    "#### 단순 상단돌파"
   ]
  },
  {
   "cell_type": "code",
   "execution_count": 44,
   "metadata": {},
   "outputs": [
    {
     "data": {
      "text/plain": [
       "{'prob': 0.06061334526309859,\n",
       " 'return_1': -0.002947913338197469,\n",
       " 'return_5': -0.009064779104054597,\n",
       " 'return_7': -0.010229726971893869,\n",
       " 'return_20': -0.02350712579898143,\n",
       " 'return_60': -0.04905174278610394,\n",
       " 'return_120': -0.09152721027004798}"
      ]
     },
     "execution_count": 44,
     "metadata": {},
     "output_type": "execute_result"
    }
   ],
   "source": [
    "get_performance(data)"
   ]
  },
  {
   "cell_type": "code",
   "execution_count": 135,
   "metadata": {},
   "outputs": [],
   "source": [
    "perf_data = []\n",
    "\n",
    "for bb_width in [0.3, 0.2, 0.1, 0.07, 0.05, 0.04, 0.03]:\n",
    "    perf = get_performance(data, bb_width)\n",
    "    perf['bbw'] = bb_width\n",
    "    perf_data.append(perf)"
   ]
  },
  {
   "cell_type": "code",
   "execution_count": 136,
   "metadata": {},
   "outputs": [],
   "source": [
    "perf_df = pd.DataFrame(perf_data)"
   ]
  },
  {
   "cell_type": "code",
   "execution_count": 137,
   "metadata": {},
   "outputs": [
    {
     "data": {
      "text/html": [
       "<div>\n",
       "<style scoped>\n",
       "    .dataframe tbody tr th:only-of-type {\n",
       "        vertical-align: middle;\n",
       "    }\n",
       "\n",
       "    .dataframe tbody tr th {\n",
       "        vertical-align: top;\n",
       "    }\n",
       "\n",
       "    .dataframe thead th {\n",
       "        text-align: right;\n",
       "    }\n",
       "</style>\n",
       "<table border=\"1\" class=\"dataframe\">\n",
       "  <thead>\n",
       "    <tr style=\"text-align: right;\">\n",
       "      <th></th>\n",
       "      <th>bbw</th>\n",
       "      <th>prob</th>\n",
       "      <th>return_1</th>\n",
       "      <th>return_120</th>\n",
       "      <th>return_20</th>\n",
       "      <th>return_5</th>\n",
       "      <th>return_60</th>\n",
       "      <th>return_7</th>\n",
       "    </tr>\n",
       "  </thead>\n",
       "  <tbody>\n",
       "    <tr>\n",
       "      <th>0</th>\n",
       "      <td>0.30</td>\n",
       "      <td>0.048145</td>\n",
       "      <td>-0.002724</td>\n",
       "      <td>-0.044638</td>\n",
       "      <td>-0.009156</td>\n",
       "      <td>-0.004639</td>\n",
       "      <td>-0.020774</td>\n",
       "      <td>-0.004068</td>\n",
       "    </tr>\n",
       "    <tr>\n",
       "      <th>1</th>\n",
       "      <td>0.20</td>\n",
       "      <td>0.037307</td>\n",
       "      <td>-0.002593</td>\n",
       "      <td>-0.028470</td>\n",
       "      <td>-0.004548</td>\n",
       "      <td>-0.003219</td>\n",
       "      <td>-0.010748</td>\n",
       "      <td>-0.002431</td>\n",
       "    </tr>\n",
       "    <tr>\n",
       "      <th>2</th>\n",
       "      <td>0.10</td>\n",
       "      <td>0.014504</td>\n",
       "      <td>-0.002092</td>\n",
       "      <td>-0.000181</td>\n",
       "      <td>0.002030</td>\n",
       "      <td>-0.000865</td>\n",
       "      <td>0.003559</td>\n",
       "      <td>-0.000104</td>\n",
       "    </tr>\n",
       "    <tr>\n",
       "      <th>3</th>\n",
       "      <td>0.07</td>\n",
       "      <td>0.006916</td>\n",
       "      <td>-0.002179</td>\n",
       "      <td>0.008264</td>\n",
       "      <td>0.004700</td>\n",
       "      <td>0.000126</td>\n",
       "      <td>0.008451</td>\n",
       "      <td>0.001269</td>\n",
       "    </tr>\n",
       "    <tr>\n",
       "      <th>4</th>\n",
       "      <td>0.05</td>\n",
       "      <td>0.003203</td>\n",
       "      <td>-0.002834</td>\n",
       "      <td>0.009744</td>\n",
       "      <td>0.004995</td>\n",
       "      <td>-0.000032</td>\n",
       "      <td>0.008871</td>\n",
       "      <td>0.001076</td>\n",
       "    </tr>\n",
       "    <tr>\n",
       "      <th>5</th>\n",
       "      <td>0.04</td>\n",
       "      <td>0.001944</td>\n",
       "      <td>-0.003247</td>\n",
       "      <td>0.003713</td>\n",
       "      <td>0.004074</td>\n",
       "      <td>-0.000530</td>\n",
       "      <td>0.004604</td>\n",
       "      <td>0.000353</td>\n",
       "    </tr>\n",
       "    <tr>\n",
       "      <th>6</th>\n",
       "      <td>0.03</td>\n",
       "      <td>0.001070</td>\n",
       "      <td>-0.003662</td>\n",
       "      <td>-0.007921</td>\n",
       "      <td>0.003100</td>\n",
       "      <td>-0.001203</td>\n",
       "      <td>-0.001288</td>\n",
       "      <td>-0.000404</td>\n",
       "    </tr>\n",
       "  </tbody>\n",
       "</table>\n",
       "</div>"
      ],
      "text/plain": [
       "    bbw      prob  return_1  return_120  return_20  return_5  return_60  \\\n",
       "0  0.30  0.048145 -0.002724   -0.044638  -0.009156 -0.004639  -0.020774   \n",
       "1  0.20  0.037307 -0.002593   -0.028470  -0.004548 -0.003219  -0.010748   \n",
       "2  0.10  0.014504 -0.002092   -0.000181   0.002030 -0.000865   0.003559   \n",
       "3  0.07  0.006916 -0.002179    0.008264   0.004700  0.000126   0.008451   \n",
       "4  0.05  0.003203 -0.002834    0.009744   0.004995 -0.000032   0.008871   \n",
       "5  0.04  0.001944 -0.003247    0.003713   0.004074 -0.000530   0.004604   \n",
       "6  0.03  0.001070 -0.003662   -0.007921   0.003100 -0.001203  -0.001288   \n",
       "\n",
       "   return_7  \n",
       "0 -0.004068  \n",
       "1 -0.002431  \n",
       "2 -0.000104  \n",
       "3  0.001269  \n",
       "4  0.001076  \n",
       "5  0.000353  \n",
       "6 -0.000404  "
      ]
     },
     "execution_count": 137,
     "metadata": {},
     "output_type": "execute_result"
    }
   ],
   "source": [
    "perf_df"
   ]
  },
  {
   "cell_type": "code",
   "execution_count": 138,
   "metadata": {},
   "outputs": [],
   "source": [
    "import seaborn as sns\n",
    "from matplotlib import pyplot as plt\n",
    "%matplotlib inline"
   ]
  },
  {
   "cell_type": "code",
   "execution_count": 139,
   "metadata": {},
   "outputs": [],
   "source": [
    "cols = ['return_1', 'return_5', 'return_7', 'return_20','return_60', 'return_120']"
   ]
  },
  {
   "cell_type": "code",
   "execution_count": 140,
   "metadata": {},
   "outputs": [],
   "source": [
    "perf_df2 = perf_df[['bbw'] + cols]"
   ]
  },
  {
   "cell_type": "code",
   "execution_count": 141,
   "metadata": {},
   "outputs": [],
   "source": [
    "perf_df2 = perf_df2.set_index('bbw').T"
   ]
  },
  {
   "cell_type": "code",
   "execution_count": 142,
   "metadata": {},
   "outputs": [
    {
     "data": {
      "text/html": [
       "<div>\n",
       "<style scoped>\n",
       "    .dataframe tbody tr th:only-of-type {\n",
       "        vertical-align: middle;\n",
       "    }\n",
       "\n",
       "    .dataframe tbody tr th {\n",
       "        vertical-align: top;\n",
       "    }\n",
       "\n",
       "    .dataframe thead th {\n",
       "        text-align: right;\n",
       "    }\n",
       "</style>\n",
       "<table border=\"1\" class=\"dataframe\">\n",
       "  <thead>\n",
       "    <tr style=\"text-align: right;\">\n",
       "      <th>bbw</th>\n",
       "      <th>0.3</th>\n",
       "      <th>0.2</th>\n",
       "      <th>0.1</th>\n",
       "      <th>0.07</th>\n",
       "      <th>0.05</th>\n",
       "      <th>0.04</th>\n",
       "      <th>0.03</th>\n",
       "    </tr>\n",
       "  </thead>\n",
       "  <tbody>\n",
       "    <tr>\n",
       "      <th>return_1</th>\n",
       "      <td>-0.002724</td>\n",
       "      <td>-0.002593</td>\n",
       "      <td>-0.002092</td>\n",
       "      <td>-0.002179</td>\n",
       "      <td>-0.002834</td>\n",
       "      <td>-0.003247</td>\n",
       "      <td>-0.003662</td>\n",
       "    </tr>\n",
       "    <tr>\n",
       "      <th>return_5</th>\n",
       "      <td>-0.004639</td>\n",
       "      <td>-0.003219</td>\n",
       "      <td>-0.000865</td>\n",
       "      <td>0.000126</td>\n",
       "      <td>-0.000032</td>\n",
       "      <td>-0.000530</td>\n",
       "      <td>-0.001203</td>\n",
       "    </tr>\n",
       "    <tr>\n",
       "      <th>return_7</th>\n",
       "      <td>-0.004068</td>\n",
       "      <td>-0.002431</td>\n",
       "      <td>-0.000104</td>\n",
       "      <td>0.001269</td>\n",
       "      <td>0.001076</td>\n",
       "      <td>0.000353</td>\n",
       "      <td>-0.000404</td>\n",
       "    </tr>\n",
       "    <tr>\n",
       "      <th>return_20</th>\n",
       "      <td>-0.009156</td>\n",
       "      <td>-0.004548</td>\n",
       "      <td>0.002030</td>\n",
       "      <td>0.004700</td>\n",
       "      <td>0.004995</td>\n",
       "      <td>0.004074</td>\n",
       "      <td>0.003100</td>\n",
       "    </tr>\n",
       "    <tr>\n",
       "      <th>return_60</th>\n",
       "      <td>-0.020774</td>\n",
       "      <td>-0.010748</td>\n",
       "      <td>0.003559</td>\n",
       "      <td>0.008451</td>\n",
       "      <td>0.008871</td>\n",
       "      <td>0.004604</td>\n",
       "      <td>-0.001288</td>\n",
       "    </tr>\n",
       "    <tr>\n",
       "      <th>return_120</th>\n",
       "      <td>-0.044638</td>\n",
       "      <td>-0.028470</td>\n",
       "      <td>-0.000181</td>\n",
       "      <td>0.008264</td>\n",
       "      <td>0.009744</td>\n",
       "      <td>0.003713</td>\n",
       "      <td>-0.007921</td>\n",
       "    </tr>\n",
       "  </tbody>\n",
       "</table>\n",
       "</div>"
      ],
      "text/plain": [
       "bbw             0.30      0.20      0.10      0.07      0.05      0.04  \\\n",
       "return_1   -0.002724 -0.002593 -0.002092 -0.002179 -0.002834 -0.003247   \n",
       "return_5   -0.004639 -0.003219 -0.000865  0.000126 -0.000032 -0.000530   \n",
       "return_7   -0.004068 -0.002431 -0.000104  0.001269  0.001076  0.000353   \n",
       "return_20  -0.009156 -0.004548  0.002030  0.004700  0.004995  0.004074   \n",
       "return_60  -0.020774 -0.010748  0.003559  0.008451  0.008871  0.004604   \n",
       "return_120 -0.044638 -0.028470 -0.000181  0.008264  0.009744  0.003713   \n",
       "\n",
       "bbw             0.03  \n",
       "return_1   -0.003662  \n",
       "return_5   -0.001203  \n",
       "return_7   -0.000404  \n",
       "return_20   0.003100  \n",
       "return_60  -0.001288  \n",
       "return_120 -0.007921  "
      ]
     },
     "execution_count": 142,
     "metadata": {},
     "output_type": "execute_result"
    }
   ],
   "source": [
    "perf_df2"
   ]
  },
  {
   "cell_type": "code",
   "execution_count": 143,
   "metadata": {},
   "outputs": [
    {
     "data": {
      "text/plain": [
       "<matplotlib.axes._subplots.AxesSubplot at 0x12c85c438>"
      ]
     },
     "execution_count": 143,
     "metadata": {},
     "output_type": "execute_result"
    },
    {
     "data": {
      "image/png": "[encoded data removed]",
      "text/plain": [
       "<Figure size 432x288 with 2 Axes>"
      ]
     },
     "metadata": {
      "needs_background": "light"
     },
     "output_type": "display_data"
    }
   ],
   "source": [
    "sns.heatmap(perf_df2)"
   ]
  },
  {
   "cell_type": "code",
   "execution_count": 144,
   "metadata": {},
   "outputs": [
    {
     "data": {
      "text/plain": [
       "<matplotlib.legend.Legend at 0x12caf01d0>"
      ]
     },
     "execution_count": 144,
     "metadata": {},
     "output_type": "execute_result"
    },
    {
     "data": {
      "image/png": "[encoded data removed]",
      "text/plain": [
       "<Figure size 720x720 with 1 Axes>"
      ]
     },
     "metadata": {
      "needs_background": "light"
     },
     "output_type": "display_data"
    }
   ],
   "source": [
    "plt.figure(figsize=(10,10))\n",
    "for col in perf_df2.columns:\n",
    "    plt.plot(perf_df2[col], label='bbw={}'.format(col))\n",
    "plt.axhline(y=0, color='r', linestyle='--')\n",
    "plt.legend()"
   ]
  },
  {
   "cell_type": "code",
   "execution_count": 145,
   "metadata": {},
   "outputs": [
    {
     "data": {
      "text/html": [
       "<div>\n",
       "<style scoped>\n",
       "    .dataframe tbody tr th:only-of-type {\n",
       "        vertical-align: middle;\n",
       "    }\n",
       "\n",
       "    .dataframe tbody tr th {\n",
       "        vertical-align: top;\n",
       "    }\n",
       "\n",
       "    .dataframe thead th {\n",
       "        text-align: right;\n",
       "    }\n",
       "</style>\n",
       "<table border=\"1\" class=\"dataframe\">\n",
       "  <thead>\n",
       "    <tr style=\"text-align: right;\">\n",
       "      <th></th>\n",
       "      <th>bbw</th>\n",
       "      <th>prob</th>\n",
       "      <th>return_1</th>\n",
       "      <th>return_120</th>\n",
       "      <th>return_20</th>\n",
       "      <th>return_5</th>\n",
       "      <th>return_60</th>\n",
       "      <th>return_7</th>\n",
       "    </tr>\n",
       "  </thead>\n",
       "  <tbody>\n",
       "    <tr>\n",
       "      <th>0</th>\n",
       "      <td>0.30</td>\n",
       "      <td>0.048145</td>\n",
       "      <td>-0.002724</td>\n",
       "      <td>-0.044638</td>\n",
       "      <td>-0.009156</td>\n",
       "      <td>-0.004639</td>\n",
       "      <td>-0.020774</td>\n",
       "      <td>-0.004068</td>\n",
       "    </tr>\n",
       "    <tr>\n",
       "      <th>1</th>\n",
       "      <td>0.20</td>\n",
       "      <td>0.037307</td>\n",
       "      <td>-0.002593</td>\n",
       "      <td>-0.028470</td>\n",
       "      <td>-0.004548</td>\n",
       "      <td>-0.003219</td>\n",
       "      <td>-0.010748</td>\n",
       "      <td>-0.002431</td>\n",
       "    </tr>\n",
       "    <tr>\n",
       "      <th>2</th>\n",
       "      <td>0.10</td>\n",
       "      <td>0.014504</td>\n",
       "      <td>-0.002092</td>\n",
       "      <td>-0.000181</td>\n",
       "      <td>0.002030</td>\n",
       "      <td>-0.000865</td>\n",
       "      <td>0.003559</td>\n",
       "      <td>-0.000104</td>\n",
       "    </tr>\n",
       "    <tr>\n",
       "      <th>3</th>\n",
       "      <td>0.07</td>\n",
       "      <td>0.006916</td>\n",
       "      <td>-0.002179</td>\n",
       "      <td>0.008264</td>\n",
       "      <td>0.004700</td>\n",
       "      <td>0.000126</td>\n",
       "      <td>0.008451</td>\n",
       "      <td>0.001269</td>\n",
       "    </tr>\n",
       "    <tr>\n",
       "      <th>4</th>\n",
       "      <td>0.05</td>\n",
       "      <td>0.003203</td>\n",
       "      <td>-0.002834</td>\n",
       "      <td>0.009744</td>\n",
       "      <td>0.004995</td>\n",
       "      <td>-0.000032</td>\n",
       "      <td>0.008871</td>\n",
       "      <td>0.001076</td>\n",
       "    </tr>\n",
       "    <tr>\n",
       "      <th>5</th>\n",
       "      <td>0.04</td>\n",
       "      <td>0.001944</td>\n",
       "      <td>-0.003247</td>\n",
       "      <td>0.003713</td>\n",
       "      <td>0.004074</td>\n",
       "      <td>-0.000530</td>\n",
       "      <td>0.004604</td>\n",
       "      <td>0.000353</td>\n",
       "    </tr>\n",
       "    <tr>\n",
       "      <th>6</th>\n",
       "      <td>0.03</td>\n",
       "      <td>0.001070</td>\n",
       "      <td>-0.003662</td>\n",
       "      <td>-0.007921</td>\n",
       "      <td>0.003100</td>\n",
       "      <td>-0.001203</td>\n",
       "      <td>-0.001288</td>\n",
       "      <td>-0.000404</td>\n",
       "    </tr>\n",
       "  </tbody>\n",
       "</table>\n",
       "</div>"
      ],
      "text/plain": [
       "    bbw      prob  return_1  return_120  return_20  return_5  return_60  \\\n",
       "0  0.30  0.048145 -0.002724   -0.044638  -0.009156 -0.004639  -0.020774   \n",
       "1  0.20  0.037307 -0.002593   -0.028470  -0.004548 -0.003219  -0.010748   \n",
       "2  0.10  0.014504 -0.002092   -0.000181   0.002030 -0.000865   0.003559   \n",
       "3  0.07  0.006916 -0.002179    0.008264   0.004700  0.000126   0.008451   \n",
       "4  0.05  0.003203 -0.002834    0.009744   0.004995 -0.000032   0.008871   \n",
       "5  0.04  0.001944 -0.003247    0.003713   0.004074 -0.000530   0.004604   \n",
       "6  0.03  0.001070 -0.003662   -0.007921   0.003100 -0.001203  -0.001288   \n",
       "\n",
       "   return_7  \n",
       "0 -0.004068  \n",
       "1 -0.002431  \n",
       "2 -0.000104  \n",
       "3  0.001269  \n",
       "4  0.001076  \n",
       "5  0.000353  \n",
       "6 -0.000404  "
      ]
     },
     "execution_count": 145,
     "metadata": {},
     "output_type": "execute_result"
    }
   ],
   "source": [
    "perf_df"
   ]
  },
  {
   "cell_type": "markdown",
   "metadata": {},
   "source": [
    "### 볼린저 밴드폭 = 0.05, 0.07 상황에서 밴드 상단 돌파하면, 3주 가량 이후 예후가 좋음"
   ]
  },
  {
   "cell_type": "markdown",
   "metadata": {},
   "source": [
    "### 밴드폭이 작을수록 좋은것 같음. 너무 작은 경우 오히려 예후가 안좋은데, 데이터 자체가 너무 적어서 그런듯함"
   ]
  },
  {
   "cell_type": "code",
   "execution_count": null,
   "metadata": {},
   "outputs": [],
   "source": []
  }
 ],
 "metadata": {
  "kernelspec": {
   "display_name": "Python 3",
   "language": "python",
   "name": "python3"
  },
  "language_info": {
   "codemirror_mode": {
    "name": "ipython",
    "version": 3
   },
   "file_extension": ".py",
   "mimetype": "text/x-python",
   "name": "python",
   "nbconvert_exporter": "python",
   "pygments_lexer": "ipython3",
   "version": "3.7.3"
  }
 },
 "nbformat": 4,
 "nbformat_minor": 4
}
