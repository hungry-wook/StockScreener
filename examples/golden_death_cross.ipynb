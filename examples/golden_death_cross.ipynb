{
 "cells": [
  {
   "cell_type": "code",
   "execution_count": 1,
   "metadata": {},
   "outputs": [],
   "source": [
    "from algo_trading.market_data import MarketData\n",
    "from algo_trading.backtest.backtester import BackTester\n",
    "from algo_trading.backtest.trading_algorithm import TradingAlgorithm"
   ]
  },
  {
   "cell_type": "code",
   "execution_count": 2,
   "metadata": {},
   "outputs": [
    {
     "name": "stdout",
     "output_type": "stream",
     "text": [
      "CPU times: user 6.02 s, sys: 503 ms, total: 6.52 s\n",
      "Wall time: 5.87 s\n"
     ]
    }
   ],
   "source": [
    "%time market_data = MarketData('./stock_data.csv')"
   ]
  },
  {
   "cell_type": "markdown",
   "metadata": {},
   "source": [
    "### 삼성전자(005930) 종목에 대해 골든/데스크로스 전략 적용\n",
    "### 2016-01-01 ~ 2019-06-30 기간에 대해 테스트\n",
    "### 초기자본금 10,000,000원으로 설정"
   ]
  },
  {
   "cell_type": "code",
   "execution_count": 3,
   "metadata": {},
   "outputs": [],
   "source": [
    "bt = BackTester(market_data, initial_cash=1e7, start_date='2016-01-01', end_date='2019-06-30')"
   ]
  },
  {
   "cell_type": "code",
   "execution_count": 4,
   "metadata": {},
   "outputs": [],
   "source": [
    "class GoldenDeathCross(TradingAlgorithm):\n",
    "\n",
    "    def make_order(self, order, date, market_data, context):\n",
    "\n",
    "        symbol = '005930' # 삼성전자\n",
    "\n",
    "        long_term_data = market_data.get_recent(symbol, date, n_days=20)\n",
    "        short_term_data = market_data.get_recent(symbol, date, n_days=5)\n",
    "\n",
    "        long_term_ma = long_term_data.Close.mean()\n",
    "        short_term_ma = short_term_data.Close.mean()\n",
    "\n",
    "        # 단기(최근 5일간) 가격 평균이 장기(최근 20일간) 가격 평균보다 높으면 매수\n",
    "        if short_term_ma > long_term_ma:\n",
    "            order.add(symbol, 10)\n",
    "\n",
    "        # 반대면 매도\n",
    "        elif short_term_ma < long_term_ma:\n",
    "            order.add(symbol, -10)\n",
    "\n",
    "        return order"
   ]
  },
  {
   "cell_type": "code",
   "execution_count": 5,
   "metadata": {},
   "outputs": [],
   "source": [
    "gdc = GoldenDeathCross()"
   ]
  },
  {
   "cell_type": "code",
   "execution_count": 6,
   "metadata": {},
   "outputs": [
    {
     "name": "stderr",
     "output_type": "stream",
     "text": [
      "100%|██████████| 854/854 [00:02<00:00, 333.20it/s]"
     ]
    },
    {
     "name": "stdout",
     "output_type": "stream",
     "text": [
      "CPU times: user 2.52 s, sys: 68 ms, total: 2.59 s\n",
      "Wall time: 2.58 s\n"
     ]
    },
    {
     "name": "stderr",
     "output_type": "stream",
     "text": [
      "\n"
     ]
    }
   ],
   "source": [
    "%time result = bt.run(gdc)"
   ]
  },
  {
   "cell_type": "code",
   "execution_count": 7,
   "metadata": {},
   "outputs": [
    {
     "data": {
      "text/plain": [
       "{'return': 0.20335405, 'adjusted_return': 0.09293899027392698}"
      ]
     },
     "execution_count": 7,
     "metadata": {},
     "output_type": "execute_result"
    }
   ],
   "source": [
    "result"
   ]
  },
  {
   "cell_type": "markdown",
   "metadata": {},
   "source": [
    "### 20% 수익률 기록. 동일 기간 코스피 수익률 대비 9.3%p 높음"
   ]
  },
  {
   "cell_type": "code",
   "execution_count": null,
   "metadata": {},
   "outputs": [],
   "source": []
  }
 ],
 "metadata": {
  "kernelspec": {
   "display_name": "Python 3",
   "language": "python",
   "name": "python3"
  },
  "language_info": {
   "codemirror_mode": {
    "name": "ipython",
    "version": 3
   },
   "file_extension": ".py",
   "mimetype": "text/x-python",
   "name": "python",
   "nbconvert_exporter": "python",
   "pygments_lexer": "ipython3",
   "version": "3.7.3"
  }
 },
 "nbformat": 4,
 "nbformat_minor": 4
}
